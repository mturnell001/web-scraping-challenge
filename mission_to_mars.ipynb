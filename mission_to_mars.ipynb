{
 "cells": [
  {
   "cell_type": "code",
   "execution_count": 61,
   "metadata": {},
   "outputs": [],
   "source": [
    "from splinter import Browser\n",
    "from bs4 import BeautifulSoup as bs\n",
    "import time\n",
    "import re\n",
    "import pandas as pd"
   ]
  },
  {
   "cell_type": "code",
   "execution_count": 36,
   "metadata": {},
   "outputs": [],
   "source": [
    "def init_browser():\n",
    "    '''Initialize a splinter Chrome browser'''\n",
    "    return Browser(\"chrome\", headless=True)"
   ]
  },
  {
   "cell_type": "code",
   "execution_count": 32,
   "metadata": {},
   "outputs": [],
   "source": [
    "def scrape_soup(url):\n",
    "    '''Use bs4 and splinter to visit the given url and return the soup\n",
    "    html object'''\n",
    "    \n",
    "    with init_browser() as browser:\n",
    "\n",
    "        browser.visit(url)\n",
    "\n",
    "        time.sleep(2)\n",
    "\n",
    "        # Scrape page into Soup\n",
    "        html = browser.html\n",
    "        soup = bs(html, \"html.parser\")\n",
    "    \n",
    "    return(soup)"
   ]
  },
  {
   "cell_type": "code",
   "execution_count": 87,
   "metadata": {},
   "outputs": [
    {
     "name": "stdout",
     "output_type": "stream",
     "text": [
      "Media Get a Close-Up of NASA's Mars 2020 Rover The clean room at NASA's Jet Propulsion Laboratory was open to the media to see NASA's next Mars explorer before it leaves for Florida in preparation for a summertime launch.\n"
     ]
    }
   ],
   "source": [
    "def nasa_article_parser():\n",
    "    '''Parse the mars NASA news site and return the article titles\n",
    "    and the paragraph teasers'''\n",
    "    \n",
    "    url = \"https://mars.nasa.gov/news/\"\n",
    "\n",
    "    #collect all the article titles\n",
    "    news_titles = [div.get_text() for div in scrape_soup(url).find_all(\"div\", class_=\"content_title\")]\n",
    "\n",
    "    #collect all the news article 'teaser' paragraphs\n",
    "    p_teasers = [div.get_text() for div in scrape_soup(url).find_all(\"div\", class_=\"article_teaser_body\")]\n",
    "    return(news_titles, p_teasers)\n",
    "\n",
    "info = nasa_article_parser()\n",
    "print(info[0][0],info[1][0])"
   ]
  },
  {
   "cell_type": "code",
   "execution_count": 37,
   "metadata": {},
   "outputs": [],
   "source": [
    "def jpl_img_scraper():\n",
    "    '''Scrape the jpl site for the full-size of the featured image\n",
    "    and return its url'''\n",
    "    \n",
    "    url = \"https://www.jpl.nasa.gov/spaceimages/?search=&category=Mars\"\n",
    "    #find the 'full image' button, click it, and soupify the resulting page\n",
    "    with init_browser() as browser:\n",
    "        browser.visit(url)\n",
    "        time.sleep(2)\n",
    "        browser.find_by_id('full_image')[0].click()\n",
    "        time.sleep(2)\n",
    "        html = browser.html\n",
    "        soup = bs(html, \"html.parser\")\n",
    "\n",
    "    #find the big image and construct the full URL from the relative url\n",
    "    feat_img = soup.find_all(\"img\", class_=\"fancybox-image\")[0][\"src\"]\n",
    "    feat_img_url = \"https://www.jpl.nasa.gov\" + feat_img\n",
    "    \n",
    "    return(feat_img_url)\n"
   ]
  },
  {
   "cell_type": "code",
   "execution_count": 60,
   "metadata": {},
   "outputs": [],
   "source": [
    "def mars_weather_tweet():\n",
    "    '''Scrapes the Mars Weather twitter for the latest tweet and returns\n",
    "    its text'''\n",
    "    \n",
    "    #soupify the twitter page\n",
    "    url = \"https://twitter.com/marswxreport?lang=en\"\n",
    "    soup = scrape_soup(url)\n",
    "\n",
    "    #find all the tweet \"boxes\"\n",
    "    tweets = soup.find_all(\"li\", attrs={\"class\":\"js-stream-item\"})\n",
    "\n",
    "    #get the text from the most recent tweet\n",
    "    #will break if they ever pin a tweet\n",
    "    latest_tweet = [tweet.find(\"p\", class_=\"tweet-text\").get_text() for tweet in tweets][0]\n",
    "    \n",
    "    #if there's a picture URL in the tweet, drop it\n",
    "    if \"pic.twitter.com\" in latest_tweet:\n",
    "        latest_tweet = latest_tweet.split(\"pic.twitter.com\")[0]\n",
    "        \n",
    "    return(latest_tweet)\n",
    "      "
   ]
  },
  {
   "cell_type": "code",
   "execution_count": 76,
   "metadata": {},
   "outputs": [],
   "source": [
    "def space_facts_scrape():\n",
    "    '''Scrapes the table of facts into a pandas df, then\n",
    "    returns a string of HTML containing the dataframe'''\n",
    "\n",
    "    #soupify the page\n",
    "    url = \"https://space-facts.com/mars/\"\n",
    "    soup = scrape_soup(url)\n",
    "    \n",
    "    #find the table\n",
    "    planet_table = soup.find(\"table\", id=\"tablepress-p-mars-no-2\")\n",
    "    \n",
    "    #pandafy the table\n",
    "    planet_df = pd.read_html(str(planet_table))[0]\n",
    "    \n",
    "    #label the columns\n",
    "    planet_df.columns=[\"Category\", \"Value\"]\n",
    "    \n",
    "    #htmlify the database\n",
    "    df_html = planet_df.to_html(index=False)\n",
    "\n",
    "    return(df_html)\n",
    "\n"
   ]
  },
  {
   "cell_type": "code",
   "execution_count": 84,
   "metadata": {},
   "outputs": [],
   "source": [
    "def usgs_hemisphere_scraper():\n",
    "    '''Navigates the usgs website and scrapes the full URLs\n",
    "    of all 4 enhanced-resolution hemisphere pictures'''\n",
    "    \n",
    "    url = \"https://astrogeology.usgs.gov/search/results?q=hemisphere+enhanced&k1=target&v1=Mars\"\n",
    "    with init_browser() as browser:\n",
    "\n",
    "            #start with an empty list of dictionaries\n",
    "            image_dict = []\n",
    "            \n",
    "            #keep going until we have all 4 images\n",
    "            while len(image_dict) < 4:\n",
    "                \n",
    "                #visit the page and find all 4 \"enhanced\" links\n",
    "                browser.visit(url)\n",
    "                time.sleep(2)\n",
    "                image_links = browser.links.find_by_partial_text('Enhanced')\n",
    "\n",
    "                #click the next link\n",
    "                image_links[len(image_dict)].click()\n",
    "                time.sleep(2)\n",
    "                \n",
    "                #click the \"open\" button to access the full-res image\n",
    "                browser.links.find_by_href(\"#open\")[0].click()\n",
    "                html = browser.html\n",
    "                \n",
    "                #soupify the page\n",
    "                soup = bs(html, \"html.parser\")\n",
    "                \n",
    "                #find the big image and construct the full URL from the relative url\n",
    "                large_img = soup.find_all(\"img\", class_=\"wide-image\")[0][\"src\"]\n",
    "                img_url = \"https://astrogeology.usgs.gov\" + large_img\n",
    "                \n",
    "                #do some parsing on the title, then pass the title and url\n",
    "                #to our dictionary\n",
    "                title = browser.title\n",
    "                title = title.split(' |')[0]\n",
    "                image_dict.append({\"title\" : title, \"url\" : img_url})\n",
    "\n",
    "    return(image_dict)            \n",
    "            "
   ]
  },
  {
   "cell_type": "code",
   "execution_count": null,
   "metadata": {},
   "outputs": [],
   "source": []
  }
 ],
 "metadata": {
  "kernelspec": {
   "display_name": "Python 3",
   "language": "python",
   "name": "python3"
  },
  "language_info": {
   "codemirror_mode": {
    "name": "ipython",
    "version": 3
   },
   "file_extension": ".py",
   "mimetype": "text/x-python",
   "name": "python",
   "nbconvert_exporter": "python",
   "pygments_lexer": "ipython3",
   "version": "3.7.5"
  }
 },
 "nbformat": 4,
 "nbformat_minor": 2
}
